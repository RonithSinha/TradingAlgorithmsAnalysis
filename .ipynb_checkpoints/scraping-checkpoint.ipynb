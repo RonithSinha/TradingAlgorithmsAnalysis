{
 "cells": [
  {
   "cell_type": "code",
   "execution_count": 1,
   "metadata": {},
   "outputs": [],
   "source": [
    "from bs4 import BeautifulSoup\n",
    "import requests\n",
    "\n",
    "import pandas as pd\n",
    "import numpy as np\n",
    "\n",
    "import math\n",
    "from datetime import datetime\n",
    "import time\n",
    "import json"
   ]
  },
  {
   "cell_type": "code",
   "execution_count": 2,
   "metadata": {
    "scrolled": true
   },
   "outputs": [],
   "source": [
    "def return_stockPrice(symbol):\n",
    "    stockURL='https://www.nseindia.com/live_market/dynaContent/live_watch/get_quote/GetQuote.jsp?symbol='+symbol\n",
    "    page=requests.get(stockURL)\n",
    "    soup=BeautifulSoup(page.content,'html.parser')\n",
    "    responseDiv=soup.find('div',{'id':'responseDiv'})\n",
    "    required_price=json.loads(responseDiv.contents[0].replace(\"\\r\\n\",\"\"))['data'][0]['lastPrice'] \n",
    "    return float(required_price.replace(',',''))"
   ]
  },
  {
   "cell_type": "code",
   "execution_count": 3,
   "metadata": {},
   "outputs": [],
   "source": [
    "def return_Nifty50_stock_price_data(nifty50list):\n",
    "    stocks_data=[]\n",
    "    for i in nifty50list:\n",
    "        try:\n",
    "            stockPrice=return_stockPrice(i)\n",
    "            print(i,': ',stockPrice)\n",
    "            stocks_data.append(stockPrice)\n",
    "        except:\n",
    "            print('Could not print: '+i)\n",
    "            stocks_data.append(np.nan)\n",
    "    return stocks_data"
   ]
  },
  {
   "cell_type": "code",
   "execution_count": 4,
   "metadata": {
    "scrolled": true
   },
   "outputs": [],
   "source": [
    "def update_Data(Nifty50stocks,nifty50list):\n",
    "    nifty50_stock_prices=return_Nifty50_stock_price_data(nifty50list)\n",
    "    current_time=get_current_time()\n",
    "    Nifty50stocks[current_time]=pd.Series(nifty50_stock_prices)\n",
    "    print(current_time)\n",
    "    Nifty50stocks.to_csv('Nifty50stocks.csv', index=False)"
   ]
  },
  {
   "cell_type": "code",
   "execution_count": 5,
   "metadata": {},
   "outputs": [],
   "source": [
    "def get_current_time():\n",
    "    now = datetime.now()\n",
    "    current_time = now.strftime(\"%H:%M\")\n",
    "    return current_time"
   ]
  },
  {
   "cell_type": "code",
   "execution_count": 6,
   "metadata": {
    "scrolled": true
   },
   "outputs": [],
   "source": [
    "def prepare_data():    \n",
    "    Nifty50stocks=pd.read_csv('Nifty50stocks.csv')\n",
    "    nifty50list=list(Nifty50stocks['Symbol'])\n",
    "\n",
    "    Nifty50stocks=Nifty50stocks.loc[:, Nifty50stocks.columns.intersection(['Symbol'])]\n",
    "    Nifty50stocks.to_csv('Nifty50stocks.csv', index=False)\n",
    "\n",
    "    current_time=get_current_time()\n",
    "    while not(current_time[:2]>='16' and current_time[3:5]>='49'):\n",
    "        update_Data(Nifty50stocks,nifty50list)\n",
    "        time.sleep(60)       "
   ]
  },
  {
   "cell_type": "code",
   "execution_count": null,
   "metadata": {
    "scrolled": true
   },
   "outputs": [
    {
     "name": "stdout",
     "output_type": "stream",
     "text": [
      "ABB :  1495.0\n",
      "ACC :  1519.5\n",
      "AMBUJACEM :  197.15\n",
      "ASHOKLEY :  74.65\n",
      "AUROPHARMA :  468.95\n",
      "DMART :  1878.15\n",
      "BAJAJHLDNG :  3631.0\n",
      "BANDHANBNK :  593.2\n",
      "BANKBARODA :  91.5\n",
      "BHEL :  51.1\n",
      "BIOCON :  242.0\n"
     ]
    }
   ],
   "source": [
    "prepare_data()"
   ]
  }
 ],
 "metadata": {
  "kernelspec": {
   "display_name": "Python 3",
   "language": "python",
   "name": "python3"
  }
 },
 "nbformat": 4,
 "nbformat_minor": 2
}
