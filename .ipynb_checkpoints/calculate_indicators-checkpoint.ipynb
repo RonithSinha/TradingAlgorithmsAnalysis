{
 "cells": [
  {
   "cell_type": "code",
   "execution_count": 1,
   "metadata": {},
   "outputs": [],
   "source": [
    "import pandas as pd\n",
    "import numpy as np\n",
    "import os,time,datetime\n",
    "pd.options.display.max_rows = 5000"
   ]
  },
  {
   "cell_type": "code",
   "execution_count": 2,
   "metadata": {},
   "outputs": [],
   "source": [
    "def StochRSI(series, period=14, smoothK=3, smoothD=3):    \n",
    "    try:\n",
    "        # Calculate RSI \n",
    "        delta = series.diff().dropna()\n",
    "        ups = delta * 0\n",
    "        downs = ups.copy()\n",
    "        ups[delta > 0] = delta[delta > 0]\n",
    "        downs[delta < 0] = -delta[delta < 0]\n",
    "        ups[ups.index[period-1]] = np.mean( ups[:period] ) #first value is sum of avg gains\n",
    "        ups = ups.drop(ups.index[:(period-1)])\n",
    "        downs[downs.index[period-1]] = np.mean( downs[:period] ) #first value is sum of avg losses\n",
    "        downs = downs.drop(downs.index[:(period-1)])\n",
    "        upEWM=ups.ewm(com=period-1,min_periods=0,adjust=False,ignore_na=False).mean()\n",
    "        downEWM=downs.ewm(com=period-1,min_periods=0,adjust=False,ignore_na=False).mean() \n",
    "        rs=upEWM/downEWM\n",
    "        rsi = 100 - 100 / (1 + rs)\n",
    "\n",
    "        # Calculate StochRSI \n",
    "        stochrsi  = (rsi - rsi.rolling(period).min()) / (rsi.rolling(period).max() - rsi.rolling(period).min())\n",
    "        stochrsi_K = stochrsi.rolling(smoothK).mean()\n",
    "        stochrsi_D = stochrsi_K.rolling(smoothD).mean()\n",
    "\n",
    "        indicators={'Close':series,'upEWM':upEWM,'downEWM':downEWM,'RSI':rsi,'stochrsi':stochrsi,'stochrsi_K':stochrsi_K}\n",
    "        return pd.DataFrame(indicators)\n",
    "    \n",
    "    except Exception as Error:\n",
    "        print('Could not calculate Stochastic RSI values: ', Error)\n",
    "        return 0"
   ]
  }
 ],
 "metadata": {
  "kernelspec": {
   "display_name": "Python 3",
   "language": "python",
   "name": "python3"
  },
  "language_info": {
   "codemirror_mode": {
    "name": "ipython",
    "version": 3
   },
   "file_extension": ".py",
   "mimetype": "text/x-python",
   "name": "python",
   "nbconvert_exporter": "python",
   "pygments_lexer": "ipython3",
   "version": "3.8.10"
  }
 },
 "nbformat": 4,
 "nbformat_minor": 4
}
